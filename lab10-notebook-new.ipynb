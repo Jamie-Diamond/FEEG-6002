{
 "cells": [
  {
   "cell_type": "markdown",
   "metadata": {},
   "source": [
    "# Symbolic Methods - Lab 1"
   ]
  },
  {
   "cell_type": "code",
   "execution_count": 1,
   "metadata": {
    "collapsed": false
   },
   "outputs": [
    {
     "ename": "FileNotFoundError",
     "evalue": "[Errno 2] No such file or directory: './ngcmstyle.css'",
     "output_type": "error",
     "traceback": [
      "\u001b[0;31m---------------------------------------------------------------------------\u001b[0m",
      "\u001b[0;31mFileNotFoundError\u001b[0m                         Traceback (most recent call last)",
      "\u001b[0;32m<ipython-input-1-3dbc6ec406c9>\u001b[0m in \u001b[0;36m<module>\u001b[0;34m()\u001b[0m\n\u001b[1;32m      1\u001b[0m \u001b[0;32mfrom\u001b[0m \u001b[0mIPython\u001b[0m\u001b[0;34m.\u001b[0m\u001b[0mcore\u001b[0m\u001b[0;34m.\u001b[0m\u001b[0mdisplay\u001b[0m \u001b[0;32mimport\u001b[0m \u001b[0mHTML\u001b[0m\u001b[0;34m\u001b[0m\u001b[0m\n\u001b[1;32m      2\u001b[0m \u001b[0mcss_file\u001b[0m \u001b[0;34m=\u001b[0m \u001b[0;34m'./ngcmstyle.css'\u001b[0m\u001b[0;34m\u001b[0m\u001b[0m\n\u001b[0;32m----> 3\u001b[0;31m \u001b[0mHTML\u001b[0m\u001b[0;34m(\u001b[0m\u001b[0mopen\u001b[0m\u001b[0;34m(\u001b[0m\u001b[0mcss_file\u001b[0m\u001b[0;34m,\u001b[0m \u001b[0;34m\"r\"\u001b[0m\u001b[0;34m)\u001b[0m\u001b[0;34m.\u001b[0m\u001b[0mread\u001b[0m\u001b[0;34m(\u001b[0m\u001b[0;34m)\u001b[0m\u001b[0;34m)\u001b[0m\u001b[0;34m\u001b[0m\u001b[0m\n\u001b[0m",
      "\u001b[0;31mFileNotFoundError\u001b[0m: [Errno 2] No such file or directory: './ngcmstyle.css'"
     ]
    }
   ],
   "source": [
    "from IPython.core.display import HTML\n",
    "css_file = './ngcmstyle.css'\n",
    "HTML(open(css_file, \"r\").read())"
   ]
  },
  {
   "cell_type": "code",
   "execution_count": 2,
   "metadata": {
    "collapsed": true
   },
   "outputs": [],
   "source": [
    "DEBUG=True"
   ]
  },
  {
   "cell_type": "markdown",
   "metadata": {},
   "source": [
    "Aim: write a generator function to do central finite differencing at arbitrary order, using sympy. Test it on both scripted python and compiled C code."
   ]
  },
  {
   "cell_type": "markdown",
   "metadata": {},
   "source": [
    "## Mathematics"
   ]
  },
  {
   "cell_type": "markdown",
   "metadata": {},
   "source": [
    "The central difference approximation to the first derivative uses Taylor series expansion to match to the first derivative term. That is, we approximate\n",
    "\n",
    "$$\n",
    "\\begin{equation}\n",
    "  \\left. \\frac{d \\, f}{d \\, x} \\right|_{x = X} = c_0 f(X) + \\sum_{i = 1}^{n} c_n \\left( f(X + n h) - f(X - n h) \\right) + {\\cal O}(h^{2 n +1}).\n",
    "\\end{equation}\n",
    "$$\n",
    "\n",
    "The order of accuracy is $2 n$, which must be even."
   ]
  },
  {
   "cell_type": "markdown",
   "metadata": {},
   "source": [
    "This must be true for any function. For simplicity we can do the Taylor expansion to calculate the unknown coefficients $c_n$ by only considering $f(x) = \\exp(x)$: as the coefficients are independent of the function, the resulting approximation holds for all (suitably differentiable) functions."
   ]
  },
  {
   "cell_type": "markdown",
   "metadata": {},
   "source": [
    "By subsituting in $f(x) = \\exp(x)$ and performing the series expansion about $x = X$ with small parameter $h$, we can match the terms on both sides of the expression in orders of $h$. That is, terms with common factor $h^0$ must vanish, terms with common factor $h^1$ must give the derivative (which, when removing the common $\\exp(x)$ term, means they must give $1$), and terms with common factor $h^j$ for $j > 1$ must vanish. This gives a system of $n$ linear equations that can be solved for the $c_n$."
   ]
  },
  {
   "cell_type": "markdown",
   "metadata": {},
   "source": [
    "Note that, by construction, all terms with even powers in $h$ (except $h^0$) vanish identically. So whilst the series is expanded to order $2n+1$, only the $n$ terms corresponding to the odd powers of $h$ are interesting."
   ]
  },
  {
   "cell_type": "markdown",
   "metadata": {},
   "source": [
    "## Useful functions"
   ]
  },
  {
   "cell_type": "markdown",
   "metadata": {},
   "source": [
    "This list of functions, all from `sympy`, will be useful in forming your solution.\n",
    "\n",
    "* `symbols`: create a symbol. Note that `c=symbols(c:3)` creates e.g. `c[0]=c0`, `c[1]=c1` and `c[2]=c2`.\n",
    "* `exp`: the exponential in `sympy`\n",
    "* `series`: Taylor series expansion about a point\n",
    "* `removeO`: method that removes the ${\\cal O}$ term from a series\n",
    "* `expand`: expands out all terms - might be needed before some simplifications\n",
    "* `collect`: collects terms with like powers of a given variable: returns a dictionary\n",
    "* `coeff`: returns the coefficient corresponding to a given variable\n",
    "* `zeros`: creates the zero matrix (or vector) of given size\n",
    "* `solve`: method applied to a matrix to solve the linear problem $A {\\bf x} = {\\bf b}$ via `x=A.solve(b)`\n",
    "* `sympy.utilities.lambdify`: as in lectures, constructs a python function that can be numerically evaluated."
   ]
  },
  {
   "cell_type": "markdown",
   "metadata": {},
   "source": [
    "## Task - python"
   ]
  },
  {
   "cell_type": "markdown",
   "metadata": {},
   "source": [
    "Objective: write a function `central_differencing` that takes as input a positive, even integer `order`. The function should *derive*, from the Taylor series expansion, the coefficients $c_n$, and from those coefficients generate a function `df`. Only the function `df` should be returned. `df` should take as input an arbitrary function of one variable `f`, the point `X` at which the derivative is to be evaluated, and the step length `h`."
   ]
  },
  {
   "cell_type": "markdown",
   "metadata": {},
   "source": [
    "### Taylor expansion"
   ]
  },
  {
   "cell_type": "markdown",
   "metadata": {},
   "source": [
    "Write a function `taylor_exp` that returns the Taylor series \n",
    "\\begin{equation}\n",
    "\\exp(x_i(h)) = \\exp(x_0) + h \\exp(x_0) + \\frac{h^2}{2} \\exp(x_0) + ... + \\frac{h^n}{n!} \\exp ( x_0)\n",
    "\\end{equation}"
   ]
  },
  {
   "cell_type": "code",
   "execution_count": 3,
   "metadata": {
    "collapsed": true
   },
   "outputs": [],
   "source": [
    "def taylor_exp(xi, h, n):\n",
    "    \"\"\"Return Taylor series of exp(xi(h)) about h=0 to order n,\n",
    "    where xi(h) is an arbitrary Sympy expression that depends on h,\n",
    "    such as xi(h) = x + i * h.\n",
    "\n",
    "    The Taylor series should be of the form\n",
    "         exp(xi(h)) = exp(x0) + h * exp(x0) + h^2/2 * exp(x0) + ... + h^{2n + 1}/(2n + 1)! * exp(x0) + O(h^{2n+2},\n",
    "    where x0 = xi(0).\n",
    "\n",
    "    Parameters\n",
    "    ----------\n",
    "    x : sympy symbol\n",
    "    h : sympy symbol\n",
    "    n : integer\n",
    "    \"\"\"\n",
    "    # TODO\n"
   ]
  },
  {
   "cell_type": "markdown",
   "metadata": {},
   "source": [
    "### Difference equation"
   ]
  },
  {
   "cell_type": "markdown",
   "metadata": {},
   "source": [
    "Define a function that returns the finite difference expression on the right hand side of the equation \n",
    "\n",
    "\\begin{equation}\n",
    "  f'(X) = c_0 f(X) + \\sum_{i = 1}^{n} c_n \\left( f(X + n h) - f(X - n h) \\right)\n",
    "\\end{equation}"
   ]
  },
  {
   "cell_type": "code",
   "execution_count": 4,
   "metadata": {
    "collapsed": true
   },
   "outputs": [],
   "source": [
    "def diff(f, x, h, c, n):\n",
    "    \"\"\"Given a function f(x) , and a list of n\n",
    "    coefficients c, return\n",
    "         c0 f(x) + sum_i=1^n { ci (f(x + i*h) - f(x - i*h)) },\n",
    "    where x and h are symbolic constants.\n",
    "    \"\"\"\n",
    "    # TODO"
   ]
  },
  {
   "cell_type": "markdown",
   "metadata": {},
   "source": [
    "### System of equations for the coefficients $(c_i)$\n",
    "Evaluating the difference equation for $f = \\exp$, and expanding $f$ about $X$ using a Taylor series leads to a polynomial of $h$ which must be 0 everywhere. This is only possible if all the coefficients of the polynomial are 0. This can be used to define the system of equations that the coefficients $c_i$ should satisfy."
   ]
  },
  {
   "cell_type": "code",
   "execution_count": 5,
   "metadata": {
    "collapsed": true
   },
   "outputs": [],
   "source": [
    "def polynomial_coefs(poly, h):\n",
    "    \"\"\"Return the coefficients of the input polynomical\n",
    "        P(h) = a0 + a1 h + a2 h^2 + ....\n",
    "    as a dictionary 'coefs' with keys [1, h, h^2, ...,] and values [a0, a1, ....],\n",
    "    so that\n",
    "    coefs[h^i] = ai\n",
    "    \"\"\"\n",
    "    return poly.collect(h, evaluate=False)\n",
    "\n",
    "\n",
    "def equations(dexp_expansion, h):\n",
    "    \"\"\"Given a Taylor expansion of the difference equation\n",
    "         df(x) = c0 f(x) + sum_i=1^n { ci (f(x + i*h) - f(x - i*h)) },\n",
    "    return the list of equations [eq1, eq2, ....], defined in terms of\n",
    "    SymPy expressions such that each equation is given by\n",
    "         eqi = 0.\n",
    "    \"\"\"\n",
    "    hcoefs = polynomial_coefs(dexp_expansion, h)\n",
    "    # TODO: modify the values of the coefficients appropriately\n",
    "    # Note that hcoefs is a dictionary\n",
    "    return hcoefs.values()\n"
   ]
  },
  {
   "cell_type": "markdown",
   "metadata": {},
   "source": [
    "### Central differencing function"
   ]
  },
  {
   "cell_type": "code",
   "execution_count": 6,
   "metadata": {
    "collapsed": false
   },
   "outputs": [],
   "source": [
    "def central_differencing(order, c_code=False, debug=DEBUG):\n",
    "    \"\"\"Return a function diff(f, x, h) that computes the first\n",
    "    derivative of a function of one variable 'f' at point 'x', using a\n",
    "    central difference scheme of order 'order' with step 'h'.\n",
    "\n",
    "    {df/dx}(x) = c0 f(x) + sum_i=1^n { ci (f(x + i*h) - f(x - i*h)) }\n",
    "\n",
    "    Arguments\n",
    "    ---------\n",
    "    order : integer\n",
    "         Even integer giving the order of the scheme.\n",
    "\n",
    "    \"\"\"\n",
    "    assert order % 2 == 0\n",
    "    n = order / 2\n",
    "    c = sympy.symbols('c:%d' % (n + 1))\n",
    "\n",
    "    x, h = sympy.symbols('x, h')\n",
    "\n",
    "    # Use Taylor series of exp(x + i*h) about h=0 to order 2n+1 to\n",
    "    # expand the terms of the form f(x + i*h) in our difference\n",
    "    # equation.\n",
    "    texp = lambda xi: taylor_exp(xi, h, 2 * n + 1)\n",
    "    df = diff(texp, x, h, c, n)\n",
    "    df = df.expand().removeO()\n",
    "    # The exp(x0) cancels with the left hand side whatever the order\n",
    "    df = (df / sympy.exp(x)).expand()\n",
    "    if debug:\n",
    "        print('df = ', df)\n",
    "\n",
    "    # Collect the coefficients of the polynomial in h in dict hcoefs\n",
    "    # and setup the list of equations\n",
    "    eqs = equations(df, h)\n",
    "\n",
    "    # Solve the equation and transform the dict of results into a list\n",
    "    #cdict = sympy.solve(hcoefs.values(), *c)\n",
    "    cdict = sympy.solve(eqs, *c)\n",
    "    if debug:\n",
    "        print('Solve for c coefficients:')\n",
    "    coefs = []\n",
    "    for ci in c:\n",
    "        coefs.append(cdict[ci])\n",
    "        if debug:\n",
    "            print('  ', str(ci) + ' = ' + str(cdict[ci]))\n",
    "\n",
    "    # Construct function of f, x and h that returns derivative using lambdify\n",
    "    f = sympy.Function('f')\n",
    "    expr = diff(f, x, h, coefs, n)\n",
    "    if debug:\n",
    "        print('Scheme: ', expr)\n",
    "    if c_code:\n",
    "        from sympy.utilities.codegen import codegen\n",
    "        # Use the codegen sympy function to generate the c-code\n",
    "        # TODO: fill the dots\n",
    "        # files = codegen(.....)\n",
    "        for filename, contents in files:\n",
    "            print('* ', filename, ' *')\n",
    "            print(contents)\n",
    "    return sympy.lambdify((f, x, h), expr)\n"
   ]
  },
  {
   "cell_type": "markdown",
   "metadata": {},
   "source": [
    "Test your function for orders $2, 4, 6, 8$. When applied to the exponential function (`numpy.exp`) at the origin you can compute the error as\n",
    "\n",
    "$$\n",
    "  \\text{Error}_{h, \\text{order}} = \\big| {\\tt df}({\\tt numpy.exp}, 0.0, h) - 1 \\big|.\n",
    "$$\n",
    "\n",
    "You should find your error scales as $h^{\\text{order}}$. Test this by computing the error when $h = 2^{-i}$ for $i = 0, \\dots, 5$ and fitting a straight line through the computed errors, using something like\n",
    "\n",
    "`p = numpy.polyfit(log(H), log(Error), 1)`\n",
    "\n",
    "where `p[0]` gives the convergence rate."
   ]
  },
  {
   "cell_type": "code",
   "execution_count": null,
   "metadata": {
    "collapsed": true
   },
   "outputs": [],
   "source": []
  },
  {
   "cell_type": "markdown",
   "metadata": {},
   "source": [
    "## Task - C"
   ]
  },
  {
   "cell_type": "markdown",
   "metadata": {},
   "source": [
    "Modify your function to generate C code. Test it on a more complex function of your choice, evaluated at a specific point. You may wish to use `sympy` to evaluate the derivative in order to test your result."
   ]
  }
 ],
 "metadata": {
  "kernelspec": {
   "display_name": "Python 3",
   "language": "python",
   "name": "python3"
  },
  "language_info": {
   "codemirror_mode": {
    "name": "ipython",
    "version": 3
   },
   "file_extension": ".py",
   "mimetype": "text/x-python",
   "name": "python",
   "nbconvert_exporter": "python",
   "pygments_lexer": "ipython3",
   "version": "3.5.1"
  }
 },
 "nbformat": 4,
 "nbformat_minor": 0
}
